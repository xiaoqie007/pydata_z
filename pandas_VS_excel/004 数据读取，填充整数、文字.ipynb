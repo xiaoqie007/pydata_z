{
 "cells": [
  {
   "cell_type": "code",
   "execution_count": 2,
   "metadata": {},
   "outputs": [],
   "source": [
    "import pandas as pd\n",
    "from datetime import date, timedelta"
   ]
  },
  {
   "cell_type": "code",
   "execution_count": 31,
   "metadata": {},
   "outputs": [
    {
     "name": "stdout",
     "output_type": "stream",
     "text": [
      "    ID      Name InStore        Date\n",
      "0    1  Book_001     Yes  2019-01-01\n",
      "1    2  Book_002      No  2019-01-01\n",
      "2    3  Book_003     Yes  2019-01-01\n",
      "3    4  Book_004      No  2019-01-01\n",
      "4    5  Book_005     Yes  2019-01-01\n",
      "5    6  Book_006      No  2019-01-01\n",
      "6    7  Book_007     Yes  2019-01-01\n",
      "7    8  Book_008      No  2019-01-01\n",
      "8    9  Book_009     Yes  2019-01-01\n",
      "9   10  Book_010      No  2019-01-01\n",
      "10  11  Book_011     Yes  2019-01-01\n",
      "11  12  Book_012      No  2019-01-01\n",
      "12  13  Book_013     Yes  2019-01-01\n",
      "13  14  Book_014      No  2019-01-01\n",
      "14  15  Book_015     Yes  2019-01-01\n",
      "15  16  Book_016      No  2019-01-01\n",
      "16  17  Book_017     Yes  2019-01-01\n",
      "17  18  Book_018      No  2019-01-01\n",
      "18  19  Book_019     Yes  2019-01-01\n",
      "19  20  Book_020      No  2019-01-01\n"
     ]
    }
   ],
   "source": [
    "books = pd.read_excel('Books.xlsx', skiprows= 3, usecols= 'C:F',index_col= None,\n",
    "                     dtype= {'ID': str, 'InStore': str, 'Date': str})\n",
    "start = date(2019,1,1)\n",
    "for i in books.index:\n",
    "    books['ID'].at[i]= i+1\n",
    "    books['InStore'].at[i] = 'Yes' if i % 2 == 0 else 'No'\n",
    "    books['Date'].at[i] = start\n",
    "print(books)"
   ]
  },
  {
   "cell_type": "code",
   "execution_count": null,
   "metadata": {},
   "outputs": [],
   "source": []
  }
 ],
 "metadata": {
  "kernelspec": {
   "display_name": "Python 3",
   "language": "python",
   "name": "python3"
  },
  "language_info": {
   "codemirror_mode": {
    "name": "ipython",
    "version": 3
   },
   "file_extension": ".py",
   "mimetype": "text/x-python",
   "name": "python",
   "nbconvert_exporter": "python",
   "pygments_lexer": "ipython3",
   "version": "3.7.1"
  }
 },
 "nbformat": 4,
 "nbformat_minor": 2
}
