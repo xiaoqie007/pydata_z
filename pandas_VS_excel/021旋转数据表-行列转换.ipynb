{
 "cells": [
  {
   "cell_type": "code",
   "execution_count": 3,
   "metadata": {},
   "outputs": [
    {
     "name": "stdout",
     "output_type": "stream",
     "text": [
      "       Active User  Page View\n",
      "Month                        \n",
      "Jan           1000       3500\n",
      "Feb           1500       5250\n",
      "Mar           2250       7875\n",
      "Apr           3375      11813\n",
      "May           5063      17721\n",
      "Jun           7595      26583\n",
      "Jul          11393      39876\n",
      "Aug          17090      59815\n",
      "Sep          25635      89723\n",
      "Oct          38453     134586\n",
      "Nov          57680     201880\n",
      "Dec          86520     302820\n"
     ]
    }
   ],
   "source": [
    "import pandas as pd\n",
    "videos = pd.read_excel('Videos.xlsx', index_col= 'Month')\n",
    "print(videos)"
   ]
  },
  {
   "cell_type": "code",
   "execution_count": 4,
   "metadata": {},
   "outputs": [
    {
     "name": "stdout",
     "output_type": "stream",
     "text": [
      "Month         Jan   Feb   Mar    Apr    May    Jun    Jul    Aug    Sep  \\\n",
      "Active User  1000  1500  2250   3375   5063   7595  11393  17090  25635   \n",
      "Page View    3500  5250  7875  11813  17721  26583  39876  59815  89723   \n",
      "\n",
      "Month           Oct     Nov     Dec  \n",
      "Active User   38453   57680   86520  \n",
      "Page View    134586  201880  302820  \n"
     ]
    }
   ],
   "source": [
    "#行列转换用transpose()\n",
    "table= videos.transpose()\n",
    "print(table)"
   ]
  },
  {
   "cell_type": "code",
   "execution_count": null,
   "metadata": {},
   "outputs": [],
   "source": []
  }
 ],
 "metadata": {
  "kernelspec": {
   "display_name": "Python 3",
   "language": "python",
   "name": "python3"
  },
  "language_info": {
   "codemirror_mode": {
    "name": "ipython",
    "version": 3
   },
   "file_extension": ".py",
   "mimetype": "text/x-python",
   "name": "python",
   "nbconvert_exporter": "python",
   "pygments_lexer": "ipython3",
   "version": "3.7.1"
  }
 },
 "nbformat": 4,
 "nbformat_minor": 2
}
