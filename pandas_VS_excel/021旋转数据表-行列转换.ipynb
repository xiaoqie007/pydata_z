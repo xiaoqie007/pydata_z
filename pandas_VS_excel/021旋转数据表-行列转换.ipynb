{
 "cells": [
  {
   "cell_type": "code",
   "execution_count": 3,
   "metadata": {},
   "outputs": [
    {
     "name": "stdout",
     "output_type": "stream",
     "text": [
      "       Active User  Page View\n",
      "Month                        \n",
      "Jan           1000       3500\n",
      "Feb           1500       5250\n",
      "Mar           2250       7875\n",
      "Apr           3375      11813\n",
      "May           5063      17721\n",
      "Jun           7595      26583\n",
      "Jul          11393      39876\n",
      "Aug          17090      59815\n",
      "Sep          25635      89723\n",
      "Oct          38453     134586\n",
      "Nov          57680     201880\n",
      "Dec          86520     302820\n"
     ]
    }
   ],
   "source": [
    "import pandas as pd\n",
    "videos = pd.read_excel('Videos.xlsx', index_col= 'Month')\n",
    "print(videos)"
   ]
  },
  {
   "cell_type": "code",
   "execution_count": 4,
   "metadata": {},
   "outputs": [
    {
     "name": "stdout",
     "output_type": "stream",
     "text": [
      "Month         Jan   Feb   Mar    Apr    May    Jun    Jul    Aug    Sep  \\\n",
      "Active User  1000  1500  2250   3375   5063   7595  11393  17090  25635   \n",
      "Page View    3500  5250  7875  11813  17721  26583  39876  59815  89723   \n",
      "\n",
      "Month           Oct     Nov     Dec  \n",
      "Active User   38453   57680   86520  \n",
      "Page View    134586  201880  302820  \n"
     ]
    }
   ],
   "source": [
    "#行列转换用transpose()\n",
    "table= videos.transpose()\n",
    "print(table)"
   ]
  },
  {
   "cell_type": "code",
   "execution_count": null,
   "metadata": {},
   "outputs": [],
   "source": []
  },
  {
   "cell_type": "code",
   "execution_count": 1,
   "metadata": {},
   "outputs": [],
   "source": [
    "import pandas as pd"
   ]
  },
  {
   "cell_type": "code",
   "execution_count": 2,
   "metadata": {},
   "outputs": [
    {
     "data": {
      "text/html": [
       "<div>\n",
       "<style scoped>\n",
       "    .dataframe tbody tr th:only-of-type {\n",
       "        vertical-align: middle;\n",
       "    }\n",
       "\n",
       "    .dataframe tbody tr th {\n",
       "        vertical-align: top;\n",
       "    }\n",
       "\n",
       "    .dataframe thead th {\n",
       "        text-align: right;\n",
       "    }\n",
       "</style>\n",
       "<table border=\"1\" class=\"dataframe\">\n",
       "  <thead>\n",
       "    <tr style=\"text-align: right;\">\n",
       "      <th></th>\n",
       "      <th>Active User</th>\n",
       "      <th>Page View</th>\n",
       "    </tr>\n",
       "    <tr>\n",
       "      <th>Month</th>\n",
       "      <th></th>\n",
       "      <th></th>\n",
       "    </tr>\n",
       "  </thead>\n",
       "  <tbody>\n",
       "    <tr>\n",
       "      <th>Jan</th>\n",
       "      <td>1000</td>\n",
       "      <td>3500</td>\n",
       "    </tr>\n",
       "    <tr>\n",
       "      <th>Feb</th>\n",
       "      <td>1500</td>\n",
       "      <td>5250</td>\n",
       "    </tr>\n",
       "    <tr>\n",
       "      <th>Mar</th>\n",
       "      <td>2250</td>\n",
       "      <td>7875</td>\n",
       "    </tr>\n",
       "    <tr>\n",
       "      <th>Apr</th>\n",
       "      <td>3375</td>\n",
       "      <td>11813</td>\n",
       "    </tr>\n",
       "    <tr>\n",
       "      <th>May</th>\n",
       "      <td>5063</td>\n",
       "      <td>17721</td>\n",
       "    </tr>\n",
       "    <tr>\n",
       "      <th>Jun</th>\n",
       "      <td>7595</td>\n",
       "      <td>26583</td>\n",
       "    </tr>\n",
       "    <tr>\n",
       "      <th>Jul</th>\n",
       "      <td>11393</td>\n",
       "      <td>39876</td>\n",
       "    </tr>\n",
       "    <tr>\n",
       "      <th>Aug</th>\n",
       "      <td>17090</td>\n",
       "      <td>59815</td>\n",
       "    </tr>\n",
       "    <tr>\n",
       "      <th>Sep</th>\n",
       "      <td>25635</td>\n",
       "      <td>89723</td>\n",
       "    </tr>\n",
       "    <tr>\n",
       "      <th>Oct</th>\n",
       "      <td>38453</td>\n",
       "      <td>134586</td>\n",
       "    </tr>\n",
       "    <tr>\n",
       "      <th>Nov</th>\n",
       "      <td>57680</td>\n",
       "      <td>201880</td>\n",
       "    </tr>\n",
       "    <tr>\n",
       "      <th>Dec</th>\n",
       "      <td>86520</td>\n",
       "      <td>302820</td>\n",
       "    </tr>\n",
       "  </tbody>\n",
       "</table>\n",
       "</div>"
      ],
      "text/plain": [
       "       Active User  Page View\n",
       "Month                        \n",
       "Jan           1000       3500\n",
       "Feb           1500       5250\n",
       "Mar           2250       7875\n",
       "Apr           3375      11813\n",
       "May           5063      17721\n",
       "Jun           7595      26583\n",
       "Jul          11393      39876\n",
       "Aug          17090      59815\n",
       "Sep          25635      89723\n",
       "Oct          38453     134586\n",
       "Nov          57680     201880\n",
       "Dec          86520     302820"
      ]
     },
     "execution_count": 2,
     "metadata": {},
     "output_type": "execute_result"
    }
   ],
   "source": [
    "videos = pd.read_excel('Videos.xlsx', index_col= 'Month')\n",
    "videos"
   ]
  },
  {
   "cell_type": "code",
   "execution_count": 5,
   "metadata": {},
   "outputs": [
    {
     "data": {
      "text/html": [
       "<div>\n",
       "<style scoped>\n",
       "    .dataframe tbody tr th:only-of-type {\n",
       "        vertical-align: middle;\n",
       "    }\n",
       "\n",
       "    .dataframe tbody tr th {\n",
       "        vertical-align: top;\n",
       "    }\n",
       "\n",
       "    .dataframe thead th {\n",
       "        text-align: right;\n",
       "    }\n",
       "</style>\n",
       "<table border=\"1\" class=\"dataframe\">\n",
       "  <thead>\n",
       "    <tr style=\"text-align: right;\">\n",
       "      <th>Month</th>\n",
       "      <th>Jan</th>\n",
       "      <th>Feb</th>\n",
       "      <th>Mar</th>\n",
       "      <th>Apr</th>\n",
       "      <th>May</th>\n",
       "      <th>Jun</th>\n",
       "      <th>Jul</th>\n",
       "      <th>Aug</th>\n",
       "      <th>Sep</th>\n",
       "      <th>Oct</th>\n",
       "      <th>Nov</th>\n",
       "      <th>Dec</th>\n",
       "    </tr>\n",
       "  </thead>\n",
       "  <tbody>\n",
       "    <tr>\n",
       "      <th>Active User</th>\n",
       "      <td>1000</td>\n",
       "      <td>1500</td>\n",
       "      <td>2250</td>\n",
       "      <td>3375</td>\n",
       "      <td>5063</td>\n",
       "      <td>7595</td>\n",
       "      <td>11393</td>\n",
       "      <td>17090</td>\n",
       "      <td>25635</td>\n",
       "      <td>38453</td>\n",
       "      <td>57680</td>\n",
       "      <td>86520</td>\n",
       "    </tr>\n",
       "    <tr>\n",
       "      <th>Page View</th>\n",
       "      <td>3500</td>\n",
       "      <td>5250</td>\n",
       "      <td>7875</td>\n",
       "      <td>11813</td>\n",
       "      <td>17721</td>\n",
       "      <td>26583</td>\n",
       "      <td>39876</td>\n",
       "      <td>59815</td>\n",
       "      <td>89723</td>\n",
       "      <td>134586</td>\n",
       "      <td>201880</td>\n",
       "      <td>302820</td>\n",
       "    </tr>\n",
       "  </tbody>\n",
       "</table>\n",
       "</div>"
      ],
      "text/plain": [
       "Month         Jan   Feb   Mar    Apr    May    Jun    Jul    Aug    Sep  \\\n",
       "Active User  1000  1500  2250   3375   5063   7595  11393  17090  25635   \n",
       "Page View    3500  5250  7875  11813  17721  26583  39876  59815  89723   \n",
       "\n",
       "Month           Oct     Nov     Dec  \n",
       "Active User   38453   57680   86520  \n",
       "Page View    134586  201880  302820  "
      ]
     },
     "execution_count": 5,
     "metadata": {},
     "output_type": "execute_result"
    }
   ],
   "source": [
    "videos.transpose()#行列变换"
   ]
  },
  {
   "cell_type": "code",
   "execution_count": null,
   "metadata": {},
   "outputs": [],
   "source": []
  }
 ],
 "metadata": {
  "kernelspec": {
   "display_name": "Python 3",
   "language": "python",
   "name": "python3"
  },
  "language_info": {
   "codemirror_mode": {
    "name": "ipython",
    "version": 3
   },
   "file_extension": ".py",
   "mimetype": "text/x-python",
   "name": "python",
   "nbconvert_exporter": "python",
   "pygments_lexer": "ipython3",
   "version": "3.7.1"
  }
 },
 "nbformat": 4,
 "nbformat_minor": 2
}
