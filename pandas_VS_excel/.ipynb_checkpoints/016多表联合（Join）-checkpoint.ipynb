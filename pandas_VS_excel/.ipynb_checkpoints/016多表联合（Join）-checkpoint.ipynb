{
 "cells": [
  {
   "cell_type": "code",
   "execution_count": 1,
   "metadata": {},
   "outputs": [],
   "source": [
    "#Excel主要是应用vlookup函数\n",
    "\n",
    "import pandas as pd"
   ]
  },
  {
   "cell_type": "code",
   "execution_count": 16,
   "metadata": {},
   "outputs": [],
   "source": [
    "#merge方法\n",
    "\n",
    "students= pd.read_excel('Student_Score.xlsx', sheet_name='Students', index_col= 'ID')\n",
    "scores= pd.read_excel('Student_Score.xlsx', sheet_name='Scores', index_col= 'ID')\n",
    "#print(students)\n",
    "#print(scores)\n",
    "#table= students.merge(scores, on= 'ID')#on以‘ID’为基准\n",
    "#table= students.merge(scores, how= 'left', on= 'ID')\n",
    "#how无论学生的分是否找到，都要显示学生(无论条件成立与否，把左边的数据都要保存)\n",
    "#table= students.merge(scores, how= 'left', on= 'ID').fillna(0)#.fillna将Nan填充为0\n",
    "#table.Score= table.Score.astype(int)#\"Score\"项下的float转换为int\n",
    "#print(table)"
   ]
  },
  {
   "cell_type": "code",
   "execution_count": 21,
   "metadata": {},
   "outputs": [
    {
     "name": "stdout",
     "output_type": "stream",
     "text": [
      "           Name  Score\n",
      "ID                    \n",
      "1   Student_001     81\n",
      "3   Student_003     83\n",
      "5   Student_005     85\n",
      "7   Student_007     87\n",
      "9   Student_009     89\n",
      "11  Student_011     91\n",
      "13  Student_013     93\n",
      "15  Student_015     95\n",
      "17  Student_017     97\n",
      "19  Student_019     99\n",
      "21  Student_021      0\n",
      "23  Student_023      0\n",
      "25  Student_025      0\n",
      "27  Student_027      0\n",
      "29  Student_029      0\n",
      "31  Student_031      0\n",
      "33  Student_033      0\n",
      "35  Student_035      0\n",
      "37  Student_037      0\n",
      "39  Student_039      0\n"
     ]
    }
   ],
   "source": [
    "#join方法\n",
    "\n",
    "#table= students.join(scores, how= 'left').fillna(0)\n",
    "table= students.join(scores, how= 'left', on= 'ID').fillna(0)\n",
    "#注意在.join中 已经没有left_on，right_on了。\n",
    "table.Score= table.Score.astype(int)\n",
    "print(table)"
   ]
  },
  {
   "cell_type": "code",
   "execution_count": null,
   "metadata": {},
   "outputs": [],
   "source": []
  }
 ],
 "metadata": {
  "kernelspec": {
   "display_name": "Python 3",
   "language": "python",
   "name": "python3"
  },
  "language_info": {
   "codemirror_mode": {
    "name": "ipython",
    "version": 3
   },
   "file_extension": ".py",
   "mimetype": "text/x-python",
   "name": "python",
   "nbconvert_exporter": "python",
   "pygments_lexer": "ipython3",
   "version": "3.7.1"
  }
 },
 "nbformat": 4,
 "nbformat_minor": 2
}
