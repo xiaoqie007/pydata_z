{
 "cells": [
  {
   "cell_type": "markdown",
   "metadata": {},
   "source": [
    "#### 表哥表姐，如何用好Excel？"
   ]
  },
  {
   "cell_type": "markdown",
   "metadata": {},
   "source": [
    "1. Excel里的核心工作有两部分：\n",
    "   - 收集数据源（也就是把数据录入到表格里）\n",
    "   - 统计数据结果"
   ]
  },
  {
   "cell_type": "markdown",
   "metadata": {},
   "source": [
    "2. 如何设计一张表？\n",
    "   1. 只做一维表，不做二维表\n",
    "   2. 数据源数据结果要分开"
   ]
  },
  {
   "cell_type": "markdown",
   "metadata": {},
   "source": [
    "3. 如何正确填写单元格内容？\n",
    "   1. 一个单元格只对应一个数据属性（把数据拆分的细一点，做成多列）\n",
    "   2. 相同数据的填写要完全一致\n",
    "      - 步骤：选中要录入的单元格- **数据验证** -在允许的 条件里改成“序列”-“来源”去选准备好的数据\n",
    "   3.特殊的日期格式\n",
    "      - 2019/2/1； 2019-2-1；显示和电脑时间设置有关\n",
    "      - **CTRL+;** 立即录入当天的计算机日期\n",
    "      - 单元格格式设置的快捷键 **CTRL+1**\n",
    "      - 一秒钟把整列的**错误日期**，全部变对，：-选中这一列-数据-**分列**- 过1，2步- YMD（根据需要）\n",
    "      - 函数：NETWORKDAYS计算工作日数\n",
    "   "
   ]
  },
  {
   "cell_type": "markdown",
   "metadata": {},
   "source": [
    "4. 文本型数字转换后才能用\n",
    "      - -数据菜单-  **分列** - 完成"
   ]
  },
  {
   "cell_type": "markdown",
   "metadata": {},
   "source": [
    "5. 透视表"
   ]
  },
  {
   "cell_type": "markdown",
   "metadata": {},
   "source": [
    "- 分类汇总\n",
    "   - -插入- 透视表- -行，列，筛选，汇总数- 左键双击直接明细- \n",
    "    \n",
    "- 年月季度汇总\n",
    "   - -日期放入行- 收入放汇总- A列单元格右键-**组合（创建组）**- 会归类统计 - 年，季度字段放入筛选字段\n",
    "    \n",
    "- 各维度同比环比\n",
    "   - -右键-**值字段设置**- 值汇总方式- 值显示方式- "
   ]
  },
  {
   "cell_type": "code",
   "execution_count": null,
   "metadata": {},
   "outputs": [],
   "source": []
  }
 ],
 "metadata": {
  "kernelspec": {
   "display_name": "Python 3",
   "language": "python",
   "name": "python3"
  },
  "language_info": {
   "codemirror_mode": {
    "name": "ipython",
    "version": 3
   },
   "file_extension": ".py",
   "mimetype": "text/x-python",
   "name": "python",
   "nbconvert_exporter": "python",
   "pygments_lexer": "ipython3",
   "version": "3.7.1"
  }
 },
 "nbformat": 4,
 "nbformat_minor": 2
}
