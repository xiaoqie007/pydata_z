{
 "cells": [
  {
   "cell_type": "code",
   "execution_count": 1,
   "metadata": {},
   "outputs": [],
   "source": [
    "import pandas as pd"
   ]
  },
  {
   "cell_type": "code",
   "execution_count": 20,
   "metadata": {},
   "outputs": [],
   "source": [
    "students = pd.read_excel('Students_Duplicates.xlsx')\n",
    "#print(students)"
   ]
  },
  {
   "cell_type": "code",
   "execution_count": 13,
   "metadata": {},
   "outputs": [],
   "source": [
    "#用drop_duplicates消除重复数据\n",
    "#students.drop_duplicates(subset= 'Name', inplace= True)#默认keep='first'保留前面\n",
    "#students.drop_duplicates(subset= 'Name', inplace= True, keep= 'last')#keep=‘last’保留后面\n",
    "#print(students)"
   ]
  },
  {
   "cell_type": "code",
   "execution_count": 25,
   "metadata": {},
   "outputs": [
    {
     "name": "stdout",
     "output_type": "stream",
     "text": [
      "0     False\n",
      "1     False\n",
      "2     False\n",
      "3     False\n",
      "4     False\n",
      "5     False\n",
      "6     False\n",
      "7     False\n",
      "8     False\n",
      "9     False\n",
      "10    False\n",
      "11    False\n",
      "12    False\n",
      "13    False\n",
      "14    False\n",
      "15    False\n",
      "16    False\n",
      "17    False\n",
      "18    False\n",
      "19    False\n",
      "20     True\n",
      "21     True\n",
      "22     True\n",
      "23     True\n",
      "24     True\n",
      "dtype: bool\n",
      "20    True\n",
      "21    True\n",
      "22    True\n",
      "23    True\n",
      "24    True\n",
      "dtype: bool\n",
      "Int64Index([20, 21, 22, 23, 24], dtype='int64')\n",
      "    ID         Name  Test_1  Test_2  Test_3\n",
      "20  21  Student_001      62      86      83\n",
      "21  22  Student_002      77      97      78\n",
      "22  23  Student_003      57      96      46\n",
      "23  24  Student_004      57      87      80\n",
      "24  25  Student_005      95      59      87\n"
     ]
    }
   ],
   "source": [
    "#定位重复数据\n",
    "dupe= students.duplicated(subset= 'Name') \n",
    "print(dupe)\n",
    "\n",
    "#print(dupe.any())#判断整个文件是否有重复数据\n",
    "\n",
    "#dupe= dupe[dupe == True]#因为dupe里面的True就是bool，所以可以直接表达为下：\n",
    "dupe= dupe[dupe]\n",
    "\n",
    "print(dupe)\n",
    "print(dupe.index)#显示索引\n",
    "print(students.iloc[dupe.index])#根据索引定位出谁是重复数据"
   ]
  },
  {
   "cell_type": "code",
   "execution_count": null,
   "metadata": {},
   "outputs": [],
   "source": []
  }
 ],
 "metadata": {
  "kernelspec": {
   "display_name": "Python 3",
   "language": "python",
   "name": "python3"
  },
  "language_info": {
   "codemirror_mode": {
    "name": "ipython",
    "version": 3
   },
   "file_extension": ".py",
   "mimetype": "text/x-python",
   "name": "python",
   "nbconvert_exporter": "python",
   "pygments_lexer": "ipython3",
   "version": "3.7.1"
  }
 },
 "nbformat": 4,
 "nbformat_minor": 2
}
