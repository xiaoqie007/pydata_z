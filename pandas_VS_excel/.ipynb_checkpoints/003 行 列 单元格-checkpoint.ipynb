{
 "cells": [
  {
   "cell_type": "code",
   "execution_count": 1,
   "metadata": {},
   "outputs": [],
   "source": [
    "import pandas as pd"
   ]
  },
  {
   "cell_type": "code",
   "execution_count": 7,
   "metadata": {},
   "outputs": [
    {
     "name": "stdout",
     "output_type": "stream",
     "text": [
      "<memory at 0x1161521c8>\n"
     ]
    },
    {
     "name": "stderr",
     "output_type": "stream",
     "text": [
      "/Users/liwei/anaconda3/lib/python3.7/site-packages/ipykernel_launcher.py:5: FutureWarning: Series.data is deprecated and will be removed in a future version\n",
      "  \"\"\"\n"
     ]
    }
   ],
   "source": [
    "d = {'x':100, 'y':200, 'z':300}\n",
    "s1 = pd.Series(d)\n",
    "#print(s1)\n",
    "#print(s1.index)\n",
    "print(s1.data)"
   ]
  },
  {
   "cell_type": "code",
   "execution_count": 9,
   "metadata": {},
   "outputs": [
    {
     "name": "stdout",
     "output_type": "stream",
     "text": [
      "Index(['x', 'y', 'z'], dtype='object')\n"
     ]
    }
   ],
   "source": [
    "L1 = [100, 200, 300]\n",
    "L2 = ['x', 'y', 'z']\n",
    "s1 = pd.Series(L1, index= L2)\n",
    "#print(s1)\n",
    "print(s1.index)"
   ]
  },
  {
   "cell_type": "code",
   "execution_count": 15,
   "metadata": {},
   "outputs": [
    {
     "name": "stdout",
     "output_type": "stream",
     "text": [
      "     A     B      C\n",
      "1  1.0  10.0    NaN\n",
      "2  2.0  20.0  100.0\n",
      "3  3.0  30.0  200.0\n",
      "4  NaN   NaN  300.0\n"
     ]
    }
   ],
   "source": [
    "s1 = pd.Series([1,2,3], index= [1,2,3], name = 'A')\n",
    "s2 = pd.Series([10,20,30], index= [1,2,3], name = 'B')\n",
    "#s3 = pd.Series([100,200,300], index= [1,2,3], name = 'C')\n",
    "s3 = pd.Series([100,200,300], index= [2,3,4], name = 'C')\n",
    "df = pd.DataFrame({s1.name: s1, s2.name: s2, s3.name: s3})\n",
    "#df = pd.DataFrame([s1,s2,s3])\n",
    "print(df)"
   ]
  },
  {
   "cell_type": "code",
   "execution_count": null,
   "metadata": {},
   "outputs": [],
   "source": []
  }
 ],
 "metadata": {
  "kernelspec": {
   "display_name": "Python 3",
   "language": "python",
   "name": "python3"
  },
  "language_info": {
   "codemirror_mode": {
    "name": "ipython",
    "version": 3
   },
   "file_extension": ".py",
   "mimetype": "text/x-python",
   "name": "python",
   "nbconvert_exporter": "python",
   "pygments_lexer": "ipython3",
   "version": "3.7.1"
  }
 },
 "nbformat": 4,
 "nbformat_minor": 2
}
