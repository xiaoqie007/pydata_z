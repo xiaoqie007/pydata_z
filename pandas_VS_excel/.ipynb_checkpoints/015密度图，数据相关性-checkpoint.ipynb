{
 "cells": [
  {
   "cell_type": "code",
   "execution_count": 1,
   "metadata": {},
   "outputs": [],
   "source": [
    "import pandas as pd\n",
    "import matplotlib.pylab as plt"
   ]
  },
  {
   "cell_type": "code",
   "execution_count": 2,
   "metadata": {},
   "outputs": [],
   "source": [
    "homes = pd.read_excel('home_data.xlsx')\n",
    "#print(homes.head())"
   ]
  },
  {
   "cell_type": "code",
   "execution_count": 7,
   "metadata": {},
   "outputs": [
    {
     "data": {
      "image/png": "[encoded data removed]",
      "text/plain": [
       "<Figure size 432x288 with 1 Axes>"
      ]
     },
     "metadata": {
      "needs_background": "light"
     },
     "output_type": "display_data"
    }
   ],
   "source": [
    "homes.sqft_living.plot.kde()\n",
    "plt.xticks(range(0, max(homes.sqft_living), 1000), fontsize= 8, rotation= 90)\n",
    "plt.show()"
   ]
  },
  {
   "cell_type": "code",
   "execution_count": 8,
   "metadata": {},
   "outputs": [
    {
     "name": "stdout",
     "output_type": "stream",
     "text": [
      "                     id     price  bedrooms  bathrooms  sqft_living  \\\n",
      "id             1.000000 -0.016762  0.001286   0.005160    -0.012258   \n",
      "price         -0.016762  1.000000  0.308350   0.525138     0.702035   \n",
      "bedrooms       0.001286  0.308350  1.000000   0.515884     0.576671   \n",
      "bathrooms      0.005160  0.525138  0.515884   1.000000     0.754665   \n",
      "sqft_living   -0.012258  0.702035  0.576671   0.754665     1.000000   \n",
      "sqft_basement -0.005151  0.323816  0.303093   0.283770     0.435043   \n",
      "sqft_lot      -0.132109  0.089661  0.031703   0.087740     0.172826   \n",
      "floors         0.018525  0.256794  0.175429   0.500653     0.353949   \n",
      "yr_built       0.021380  0.054012  0.154178   0.506019     0.318049   \n",
      "\n",
      "               sqft_basement  sqft_lot    floors  yr_built  \n",
      "id                 -0.005151 -0.132109  0.018525  0.021380  \n",
      "price               0.323816  0.089661  0.256794  0.054012  \n",
      "bedrooms            0.303093  0.031703  0.175429  0.154178  \n",
      "bathrooms           0.283770  0.087740  0.500653  0.506019  \n",
      "sqft_living         0.435043  0.172826  0.353949  0.318049  \n",
      "sqft_basement       1.000000  0.015286 -0.245705 -0.133124  \n",
      "sqft_lot            0.015286  1.000000 -0.005201  0.053080  \n",
      "floors             -0.245705 -0.005201  1.000000  0.489319  \n",
      "yr_built           -0.133124  0.053080  0.489319  1.000000  \n"
     ]
    }
   ],
   "source": [
    "print(homes.corr()) #.corr()展示数据相关性"
   ]
  },
  {
   "cell_type": "code",
   "execution_count": null,
   "metadata": {},
   "outputs": [],
   "source": []
  }
 ],
 "metadata": {
  "kernelspec": {
   "display_name": "Python 3",
   "language": "python",
   "name": "python3"
  },
  "language_info": {
   "codemirror_mode": {
    "name": "ipython",
    "version": 3
   },
   "file_extension": ".py",
   "mimetype": "text/x-python",
   "name": "python",
   "nbconvert_exporter": "python",
   "pygments_lexer": "ipython3",
   "version": "3.7.1"
  }
 },
 "nbformat": 4,
 "nbformat_minor": 2
}
