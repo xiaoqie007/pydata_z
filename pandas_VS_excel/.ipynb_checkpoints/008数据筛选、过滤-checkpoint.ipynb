{
 "cells": [
  {
   "cell_type": "code",
   "execution_count": 1,
   "metadata": {},
   "outputs": [],
   "source": [
    "import pandas as pd"
   ]
  },
  {
   "cell_type": "code",
   "execution_count": 5,
   "metadata": {},
   "outputs": [
    {
     "name": "stdout",
     "output_type": "stream",
     "text": [
      "           Name  Age  Score\n",
      "ID                         \n",
      "2   Student_002   26     92\n",
      "6   Student_006   20     93\n",
      "9   Student_009   18     85\n",
      "19  Student_019   19     86\n",
      "20  Student_020   20     94\n"
     ]
    }
   ],
   "source": [
    "#方法1\n",
    "students = pd.read_excel('Students.xlsx', index_col= 'ID')\n",
    "\n",
    "def Age_10_to_30(a):\n",
    "    return 18 <= a < 30\n",
    "def Level_a(s):\n",
    "    return 85 <= s <= 100\n",
    "\n",
    "students = students.loc[students['Age'].apply(Age_10_to_30)].loc[students['Score'].apply(Level_a)]\n",
    "print(students)"
   ]
  },
  {
   "cell_type": "code",
   "execution_count": 10,
   "metadata": {},
   "outputs": [
    {
     "name": "stdout",
     "output_type": "stream",
     "text": [
      "           Name  Age  Score\n",
      "ID                         \n",
      "2   Student_002   26     92\n",
      "6   Student_006   20     93\n",
      "9   Student_009   18     85\n",
      "19  Student_019   19     86\n",
      "20  Student_020   20     94\n"
     ]
    }
   ],
   "source": [
    "#方法2\n",
    "students = pd.read_excel('Students.xlsx', index_col= 'ID')\n",
    "\n",
    "def Age_10_to_30(a):\n",
    "    return 18 <= a < 30\n",
    "def Level_a(s):\n",
    "    return 85 <= s <= 100\n",
    "\n",
    "students = students.loc[students.Age.apply(Age_10_to_30)] \\\n",
    ".loc[students.Score.apply(Level_a)]\n",
    "print(students)"
   ]
  },
  {
   "cell_type": "code",
   "execution_count": 13,
   "metadata": {},
   "outputs": [
    {
     "name": "stdout",
     "output_type": "stream",
     "text": [
      "           Name  Age  Score\n",
      "ID                         \n",
      "2   Student_002   26     92\n",
      "6   Student_006   20     93\n",
      "9   Student_009   18     85\n",
      "19  Student_019   19     86\n",
      "20  Student_020   20     94\n"
     ]
    }
   ],
   "source": [
    "#方法3\n",
    "students = pd.read_excel('Students.xlsx', index_col= 'ID')\n",
    "\n",
    "students = students.loc[students.Age.apply(lambda a: 18 <= a < 30)] \\\n",
    ".loc[students.Score.apply(lambda s: 85 <= s <= 100)]               #空格+正斜线\n",
    "print(students)"
   ]
  },
  {
   "cell_type": "code",
   "execution_count": null,
   "metadata": {},
   "outputs": [],
   "source": []
  }
 ],
 "metadata": {
  "kernelspec": {
   "display_name": "Python 3",
   "language": "python",
   "name": "python3"
  },
  "language_info": {
   "codemirror_mode": {
    "name": "ipython",
    "version": 3
   },
   "file_extension": ".py",
   "mimetype": "text/x-python",
   "name": "python",
   "nbconvert_exporter": "python",
   "pygments_lexer": "ipython3",
   "version": "3.7.1"
  }
 },
 "nbformat": 4,
 "nbformat_minor": 2
}
