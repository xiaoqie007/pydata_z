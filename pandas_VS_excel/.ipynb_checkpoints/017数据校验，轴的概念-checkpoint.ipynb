{
 "cells": [
  {
   "cell_type": "code",
   "execution_count": 1,
   "metadata": {},
   "outputs": [],
   "source": [
    "import pandas as pd"
   ]
  },
  {
   "cell_type": "code",
   "execution_count": 23,
   "metadata": {},
   "outputs": [],
   "source": [
    "students = pd.read_excel('Students17.xlsx')\n",
    "#print(students)\n",
    "#print(students.columns)"
   ]
  },
  {
   "cell_type": "code",
   "execution_count": 24,
   "metadata": {},
   "outputs": [],
   "source": [
    "#if函数\n",
    "\n",
    "#def Score_validation(row):\n",
    "#    if not 0<=row.Score<=100:\n",
    "#        print(f'#{row.ID}\\tstudent{row.Name}has an invalid score{row.Score}.')#\\t制表符"
   ]
  },
  {
   "cell_type": "code",
   "execution_count": 25,
   "metadata": {},
   "outputs": [],
   "source": [
    "#students.apply(Score_validation, axis= 1)"
   ]
  },
  {
   "cell_type": "code",
   "execution_count": 21,
   "metadata": {},
   "outputs": [],
   "source": [
    "#assert函数\n",
    "\n",
    "def Score_validation(row):\n",
    "    try:\n",
    "        assert 0<=row.Score<=100\n",
    "    except:\n",
    "        print(f'#{row.ID}\\tstudent{row.Name}has an invalid score {row.Score}.')#\\t制表符"
   ]
  },
  {
   "cell_type": "code",
   "execution_count": 22,
   "metadata": {},
   "outputs": [
    {
     "name": "stdout",
     "output_type": "stream",
     "text": [
      "#1\tstudentStudent_001has an invalid score -40.\n",
      "#2\tstudentStudent_002has an invalid score -30.\n",
      "#3\tstudentStudent_003has an invalid score -20.\n",
      "#4\tstudentStudent_004has an invalid score -10.\n",
      "#16\tstudentStudent_016has an invalid score 110.\n",
      "#17\tstudentStudent_017has an invalid score 120.\n",
      "#18\tstudentStudent_018has an invalid score 130.\n",
      "#19\tstudentStudent_019has an invalid score 140.\n",
      "#20\tstudentStudent_020has an invalid score 150.\n"
     ]
    },
    {
     "data": {
      "text/plain": [
       "0     None\n",
       "1     None\n",
       "2     None\n",
       "3     None\n",
       "4     None\n",
       "5     None\n",
       "6     None\n",
       "7     None\n",
       "8     None\n",
       "9     None\n",
       "10    None\n",
       "11    None\n",
       "12    None\n",
       "13    None\n",
       "14    None\n",
       "15    None\n",
       "16    None\n",
       "17    None\n",
       "18    None\n",
       "19    None\n",
       "dtype: object"
      ]
     },
     "execution_count": 22,
     "metadata": {},
     "output_type": "execute_result"
    }
   ],
   "source": [
    "students.apply(Score_validation, axis= 1)\n",
    "#axis是轴的意思，axis=1（按行检验，即从左向右），axis=0（按列检验，即从上到下）"
   ]
  },
  {
   "cell_type": "code",
   "execution_count": null,
   "metadata": {},
   "outputs": [],
   "source": []
  }
 ],
 "metadata": {
  "kernelspec": {
   "display_name": "Python 3",
   "language": "python",
   "name": "python3"
  },
  "language_info": {
   "codemirror_mode": {
    "name": "ipython",
    "version": 3
   },
   "file_extension": ".py",
   "mimetype": "text/x-python",
   "name": "python",
   "nbconvert_exporter": "python",
   "pygments_lexer": "ipython3",
   "version": "3.7.1"
  }
 },
 "nbformat": 4,
 "nbformat_minor": 2
}
