{
 "cells": [
  {
   "cell_type": "code",
   "execution_count": 25,
   "metadata": {},
   "outputs": [],
   "source": [
    "import pandas as pd\n",
    "import matplotlib.pylab as plt"
   ]
  },
  {
   "cell_type": "code",
   "execution_count": 26,
   "metadata": {},
   "outputs": [
    {
     "name": "stdout",
     "output_type": "stream",
     "text": [
      "    ID      Name  Oct  Nov  Dec  Totle\n",
      "11  12  User_012    7   11   11     29\n",
      "13  14  User_014    9   11   11     31\n",
      "0    1  User_001    7   15   10     32\n"
     ]
    }
   ],
   "source": [
    "users= pd.read_excel('Users.xlsx')\n",
    "#print(users.head(3))#head默认前5行\n",
    "users['Totle']= users['Oct']+ users['Nov']+ users['Dec'] #新增‘Totle’,求和\n",
    "#users.sort_values(by= 'Totle', inplace= True, ascending= False) #ascending默认升序\n",
    "users.sort_values(by= 'Totle', inplace= True)\n",
    "print(users.head(3))"
   ]
  },
  {
   "cell_type": "code",
   "execution_count": 27,
   "metadata": {},
   "outputs": [
    {
     "data": {
      "image/png": "[encoded data removed]",
      "text/plain": [
       "<Figure size 432x288 with 1 Axes>"
      ]
     },
     "metadata": {
      "needs_background": "light"
     },
     "output_type": "display_data"
    }
   ],
   "source": [
    "users.plot.barh(x= 'Name', y= ['Oct', 'Nov', 'Dec'], stacked = True, title= 'Users Behavior')\n",
    "#bar 和 harh 的区别harh是bar+horizontal（水平的）\n",
    "#plt.tight_layout() #压缩显示\n",
    "plt.show()"
   ]
  },
  {
   "cell_type": "code",
   "execution_count": null,
   "metadata": {},
   "outputs": [],
   "source": []
  },
  {
   "cell_type": "code",
   "execution_count": 28,
   "metadata": {},
   "outputs": [
    {
     "data": {
      "text/html": [
       "<div>\n",
       "<style scoped>\n",
       "    .dataframe tbody tr th:only-of-type {\n",
       "        vertical-align: middle;\n",
       "    }\n",
       "\n",
       "    .dataframe tbody tr th {\n",
       "        vertical-align: top;\n",
       "    }\n",
       "\n",
       "    .dataframe thead th {\n",
       "        text-align: right;\n",
       "    }\n",
       "</style>\n",
       "<table border=\"1\" class=\"dataframe\">\n",
       "  <thead>\n",
       "    <tr style=\"text-align: right;\">\n",
       "      <th></th>\n",
       "      <th>ID</th>\n",
       "      <th>Name</th>\n",
       "      <th>Oct</th>\n",
       "      <th>Nov</th>\n",
       "      <th>Dec</th>\n",
       "    </tr>\n",
       "  </thead>\n",
       "  <tbody>\n",
       "    <tr>\n",
       "      <th>0</th>\n",
       "      <td>1</td>\n",
       "      <td>User_001</td>\n",
       "      <td>7</td>\n",
       "      <td>15</td>\n",
       "      <td>10</td>\n",
       "    </tr>\n",
       "    <tr>\n",
       "      <th>1</th>\n",
       "      <td>2</td>\n",
       "      <td>User_002</td>\n",
       "      <td>10</td>\n",
       "      <td>13</td>\n",
       "      <td>10</td>\n",
       "    </tr>\n",
       "    <tr>\n",
       "      <th>2</th>\n",
       "      <td>3</td>\n",
       "      <td>User_003</td>\n",
       "      <td>12</td>\n",
       "      <td>10</td>\n",
       "      <td>17</td>\n",
       "    </tr>\n",
       "    <tr>\n",
       "      <th>3</th>\n",
       "      <td>4</td>\n",
       "      <td>User_004</td>\n",
       "      <td>8</td>\n",
       "      <td>14</td>\n",
       "      <td>13</td>\n",
       "    </tr>\n",
       "    <tr>\n",
       "      <th>4</th>\n",
       "      <td>5</td>\n",
       "      <td>User_005</td>\n",
       "      <td>8</td>\n",
       "      <td>11</td>\n",
       "      <td>16</td>\n",
       "    </tr>\n",
       "  </tbody>\n",
       "</table>\n",
       "</div>"
      ],
      "text/plain": [
       "   ID      Name  Oct  Nov  Dec\n",
       "0   1  User_001    7   15   10\n",
       "1   2  User_002   10   13   10\n",
       "2   3  User_003   12   10   17\n",
       "3   4  User_004    8   14   13\n",
       "4   5  User_005    8   11   16"
      ]
     },
     "execution_count": 28,
     "metadata": {},
     "output_type": "execute_result"
    }
   ],
   "source": [
    "users = pd.read_excel('Users.xlsx')\n",
    "users.head()"
   ]
  },
  {
   "cell_type": "code",
   "execution_count": 29,
   "metadata": {},
   "outputs": [],
   "source": [
    "users['Total'] = users['Oct'] + users['Nov'] + users['Dec']"
   ]
  },
  {
   "cell_type": "code",
   "execution_count": 30,
   "metadata": {},
   "outputs": [
    {
     "data": {
      "text/html": [
       "<div>\n",
       "<style scoped>\n",
       "    .dataframe tbody tr th:only-of-type {\n",
       "        vertical-align: middle;\n",
       "    }\n",
       "\n",
       "    .dataframe tbody tr th {\n",
       "        vertical-align: top;\n",
       "    }\n",
       "\n",
       "    .dataframe thead th {\n",
       "        text-align: right;\n",
       "    }\n",
       "</style>\n",
       "<table border=\"1\" class=\"dataframe\">\n",
       "  <thead>\n",
       "    <tr style=\"text-align: right;\">\n",
       "      <th></th>\n",
       "      <th>ID</th>\n",
       "      <th>Name</th>\n",
       "      <th>Oct</th>\n",
       "      <th>Nov</th>\n",
       "      <th>Dec</th>\n",
       "      <th>Total</th>\n",
       "    </tr>\n",
       "  </thead>\n",
       "  <tbody>\n",
       "    <tr>\n",
       "      <th>0</th>\n",
       "      <td>1</td>\n",
       "      <td>User_001</td>\n",
       "      <td>7</td>\n",
       "      <td>15</td>\n",
       "      <td>10</td>\n",
       "      <td>32</td>\n",
       "    </tr>\n",
       "    <tr>\n",
       "      <th>1</th>\n",
       "      <td>2</td>\n",
       "      <td>User_002</td>\n",
       "      <td>10</td>\n",
       "      <td>13</td>\n",
       "      <td>10</td>\n",
       "      <td>33</td>\n",
       "    </tr>\n",
       "    <tr>\n",
       "      <th>2</th>\n",
       "      <td>3</td>\n",
       "      <td>User_003</td>\n",
       "      <td>12</td>\n",
       "      <td>10</td>\n",
       "      <td>17</td>\n",
       "      <td>39</td>\n",
       "    </tr>\n",
       "    <tr>\n",
       "      <th>3</th>\n",
       "      <td>4</td>\n",
       "      <td>User_004</td>\n",
       "      <td>8</td>\n",
       "      <td>14</td>\n",
       "      <td>13</td>\n",
       "      <td>35</td>\n",
       "    </tr>\n",
       "    <tr>\n",
       "      <th>4</th>\n",
       "      <td>5</td>\n",
       "      <td>User_005</td>\n",
       "      <td>8</td>\n",
       "      <td>11</td>\n",
       "      <td>16</td>\n",
       "      <td>35</td>\n",
       "    </tr>\n",
       "  </tbody>\n",
       "</table>\n",
       "</div>"
      ],
      "text/plain": [
       "   ID      Name  Oct  Nov  Dec  Total\n",
       "0   1  User_001    7   15   10     32\n",
       "1   2  User_002   10   13   10     33\n",
       "2   3  User_003   12   10   17     39\n",
       "3   4  User_004    8   14   13     35\n",
       "4   5  User_005    8   11   16     35"
      ]
     },
     "execution_count": 30,
     "metadata": {},
     "output_type": "execute_result"
    }
   ],
   "source": [
    "users.head()"
   ]
  },
  {
   "cell_type": "code",
   "execution_count": 31,
   "metadata": {},
   "outputs": [],
   "source": [
    "users.sort_values(by = 'Total', inplace= True)"
   ]
  },
  {
   "cell_type": "code",
   "execution_count": 32,
   "metadata": {},
   "outputs": [
    {
     "data": {
      "text/html": [
       "<div>\n",
       "<style scoped>\n",
       "    .dataframe tbody tr th:only-of-type {\n",
       "        vertical-align: middle;\n",
       "    }\n",
       "\n",
       "    .dataframe tbody tr th {\n",
       "        vertical-align: top;\n",
       "    }\n",
       "\n",
       "    .dataframe thead th {\n",
       "        text-align: right;\n",
       "    }\n",
       "</style>\n",
       "<table border=\"1\" class=\"dataframe\">\n",
       "  <thead>\n",
       "    <tr style=\"text-align: right;\">\n",
       "      <th></th>\n",
       "      <th>ID</th>\n",
       "      <th>Name</th>\n",
       "      <th>Oct</th>\n",
       "      <th>Nov</th>\n",
       "      <th>Dec</th>\n",
       "      <th>Total</th>\n",
       "    </tr>\n",
       "  </thead>\n",
       "  <tbody>\n",
       "    <tr>\n",
       "      <th>11</th>\n",
       "      <td>12</td>\n",
       "      <td>User_012</td>\n",
       "      <td>7</td>\n",
       "      <td>11</td>\n",
       "      <td>11</td>\n",
       "      <td>29</td>\n",
       "    </tr>\n",
       "    <tr>\n",
       "      <th>13</th>\n",
       "      <td>14</td>\n",
       "      <td>User_014</td>\n",
       "      <td>9</td>\n",
       "      <td>11</td>\n",
       "      <td>11</td>\n",
       "      <td>31</td>\n",
       "    </tr>\n",
       "    <tr>\n",
       "      <th>0</th>\n",
       "      <td>1</td>\n",
       "      <td>User_001</td>\n",
       "      <td>7</td>\n",
       "      <td>15</td>\n",
       "      <td>10</td>\n",
       "      <td>32</td>\n",
       "    </tr>\n",
       "    <tr>\n",
       "      <th>1</th>\n",
       "      <td>2</td>\n",
       "      <td>User_002</td>\n",
       "      <td>10</td>\n",
       "      <td>13</td>\n",
       "      <td>10</td>\n",
       "      <td>33</td>\n",
       "    </tr>\n",
       "    <tr>\n",
       "      <th>5</th>\n",
       "      <td>6</td>\n",
       "      <td>User_006</td>\n",
       "      <td>11</td>\n",
       "      <td>9</td>\n",
       "      <td>14</td>\n",
       "      <td>34</td>\n",
       "    </tr>\n",
       "  </tbody>\n",
       "</table>\n",
       "</div>"
      ],
      "text/plain": [
       "    ID      Name  Oct  Nov  Dec  Total\n",
       "11  12  User_012    7   11   11     29\n",
       "13  14  User_014    9   11   11     31\n",
       "0    1  User_001    7   15   10     32\n",
       "1    2  User_002   10   13   10     33\n",
       "5    6  User_006   11    9   14     34"
      ]
     },
     "execution_count": 32,
     "metadata": {},
     "output_type": "execute_result"
    }
   ],
   "source": [
    "users.head()"
   ]
  },
  {
   "cell_type": "code",
   "execution_count": 35,
   "metadata": {},
   "outputs": [
    {
     "data": {
      "text/plain": [
       "Text(0.5, 1.0, '用户行为')"
      ]
     },
     "execution_count": 35,
     "metadata": {},
     "output_type": "execute_result"
    },
    {
     "data": {
      "image/png": "[encoded data removed]",
      "text/plain": [
       "<Figure size 432x288 with 1 Axes>"
      ]
     },
     "metadata": {
      "needs_background": "light"
     },
     "output_type": "display_data"
    }
   ],
   "source": [
    "users.plot.barh(x= 'Name', y= ['Oct','Nov','Dec'], stacked = True)\n",
    "plt.title('用户行为')"
   ]
  },
  {
   "cell_type": "markdown",
   "metadata": {
    "toc-hr-collapsed": false
   },
   "source": [
    "- #### **title内容没有显示中文，怎么办？**"
   ]
  },
  {
   "cell_type": "markdown",
   "metadata": {},
   "source": [
    "> matplotlib绘制图像的时候显示中文时候，中文会变成小方格子。其实骂他plotlib是支持中文编码的，造成这个现象的原因是，matplotlib库的配置信息里面没有中文字体的相关信息\n"
   ]
  },
  {
   "cell_type": "markdown",
   "metadata": {},
   "source": [
    "- 造成Matplotlib中文乱码是因为系统里没有SimHei字体库，需要下载SimHei字体，再配置Matplotlib。\n",
    "- 如果我们找到系统里支持中文的字体，然后在Matplotlib里设置为默认，也就不需要再下载了。"
   ]
  },
  {
   "cell_type": "markdown",
   "metadata": {},
   "source": [
    "```python\n",
    "from matplotlib.font_manager import FontManager\n",
    "fm = FontManager()\n",
    "mat_fonts = set(f.name for f in fm.ttflist)\n",
    "print(mat_fonts)\n",
    "```"
   ]
  },
  {
   "cell_type": "markdown",
   "metadata": {},
   "source": [
    "运行以上代码，可以发现系统里有很多字体可供使用，我们找到Arial Unicode MS，设置为Matplotlib的默认字体即可。"
   ]
  },
  {
   "cell_type": "code",
   "execution_count": 42,
   "metadata": {},
   "outputs": [
    {
     "name": "stdout",
     "output_type": "stream",
     "text": [
      "{'DIN Alternate', 'Verdana', 'Arial Narrow', 'Courier New', '.SF NS Text Condensed', 'Andale Mono', 'Noto Sans Samaritan', 'Noto Sans Egyptian Hieroglyphs', 'Symbol', 'Noto Sans Tifinagh', 'Ayuthaya', 'Noto Sans Lepcha', 'Noto Sans Tagbanwa', 'Noto Sans Buginese', 'AppleMyungjo', 'cmmi10', 'Noto Sans Osmanya', 'Mishafi', 'DejaVu Sans Display', 'Apple Symbols', 'DejaVu Sans Mono', 'Noto Sans Syloti Nagri', 'Apple Braille', '.SF Compact Display', 'Chalkduster', 'Noto Sans Coptic', 'Noto Sans New Tai Lue', 'Noto Sans Phoenician', 'Sathu', 'Noto Sans PhagsPa', 'Arial Rounded MT Bold', 'Noto Sans Glagolitic', 'cmss10', 'STIXNonUnicode', 'Wingdings 3', 'Georgia', 'Noto Sans NKo', 'STIXIntegralsSm', '.SF NS Mono', 'STIXSizeFourSym', 'Noto Sans Old South Arabian', 'Silom', 'Arial', 'Krungthep', 'STIXIntegralsUp', 'Noto Sans Kaithi', 'STIXSizeOneSym', 'Apple Chancery', 'Noto Sans Tai Viet', 'Noto Sans Shavian', 'Zapfino', 'cmex10', 'Luminari', 'Noto Sans Lydian', 'Noto Sans Runic', 'Farisi', 'Noto Sans Tagalog', 'Noto Sans Yi', 'Noto Sans Saurashtra', 'Impact', 'Noto Sans Tai Le', 'Noto Sans Ugaritic', '.SF NS Rounded', 'Noto Sans Kayah Li', 'Brush Script MT', 'Wingdings 2', 'Skia', 'Arial Unicode MS', 'STIXVariants', 'DIN Condensed', 'Times New Roman', 'Noto Sans Lycian', 'Lao Sangam MN', 'STIXSizeTwoSym', 'STIXSizeFiveSym', 'Zapf Dingbats', 'cmb10', 'Noto Sans Syriac', 'Noto Sans Thaana', 'Kokonor', 'Noto Sans Mongolian', 'Bradley Hand', 'Noto Sans Cuneiform', 'Noto Sans Bamum', 'Noto Sans Cham', 'DejaVu Sans', 'Noto Sans Old Italic', '.SF NS Display Condensed', '.LastResort', 'Noto Sans Batak', 'Tahoma', 'Noto Sans Tai Tham', 'Webdings', 'Trebuchet MS', 'Bodoni 72 Smallcaps', 'System Font', 'DejaVu Serif Display', '.New York', 'Noto Sans Mandaic', 'AppleGothic', 'Noto Sans Kharoshthi', 'Noto Sans Ogham', '.SF Compact Text', 'STIXGeneral', 'Noto Sans Inscriptional Parthian', 'Noto Sans Chakma', 'Comic Sans MS', 'Khmer Sangam MN', 'Noto Sans Gothic', 'Noto Sans Brahmi', 'Gurmukhi MT', 'Diwan Thuluth', 'Noto Sans Inscriptional Pahlavi', 'Noto Sans Lisu', 'cmr10', 'STIXIntegralsUpSm', 'DejaVu Serif', 'Herculanum', 'Noto Sans Meetei Mayek', 'Noto Sans Buhid', 'cmtt10', 'Noto Sans Old Turkic', 'Noto Sans Sundanese', 'Bodoni Ornaments', 'Hoefler Text', 'Noto Sans Cypriot', 'Noto Sans Hanunoo', 'Microsoft Sans Serif', 'STIXIntegralsD', 'cmsy10', 'Noto Sans Rejang', 'STIXSizeThreeSym', 'Big Caslon', 'Noto Sans Ol Chiki', 'Arial Black', 'Noto Sans Imperial Aramaic', '.Keyboard', 'Mishafi Gold', 'STIXIntegralsUpD', 'Noto Sans Limbu', 'Noto Sans Carian', '.SF Compact Rounded', 'Wingdings', 'Noto Serif Balinese', 'Trattatello', 'Plantagenet Cherokee', 'Noto Sans Linear B', 'Noto Sans Vai', 'Noto Sans Avestan', 'Noto Sans Javanese', 'Noto Sans Old Persian'}\n"
     ]
    }
   ],
   "source": [
    "from matplotlib.font_manager import FontManager\n",
    "fm = FontManager()\n",
    "mat_fonts = set(f.name for f in fm.ttflist)\n",
    "print(mat_fonts)"
   ]
  },
  {
   "cell_type": "code",
   "execution_count": 49,
   "metadata": {},
   "outputs": [
    {
     "data": {
      "text/plain": [
       "True"
      ]
     },
     "execution_count": 49,
     "metadata": {},
     "output_type": "execute_result"
    }
   ],
   "source": [
    "'Arial Unicode MS' in mat_fonts"
   ]
  },
  {
   "cell_type": "code",
   "execution_count": 46,
   "metadata": {},
   "outputs": [],
   "source": [
    "import matplotlib.pyplot as plt\n",
    "\n",
    "plt.rcParams['font.sans-serif'] = ['Arial Unicode MS']"
   ]
  },
  {
   "cell_type": "markdown",
   "metadata": {},
   "source": [
    "通过以上两行代码，不用其他任何修改，即可正常显示中文。"
   ]
  },
  {
   "cell_type": "code",
   "execution_count": 50,
   "metadata": {},
   "outputs": [
    {
     "data": {
      "text/plain": [
       "Text(0.5, 1.0, '用户行为')"
      ]
     },
     "execution_count": 50,
     "metadata": {},
     "output_type": "execute_result"
    },
    {
     "data": {
      "image/png": "[encoded data removed]",
      "text/plain": [
       "<Figure size 432x288 with 1 Axes>"
      ]
     },
     "metadata": {
      "needs_background": "light"
     },
     "output_type": "display_data"
    }
   ],
   "source": [
    "users.plot.barh(x= 'Name', y= ['Oct','Nov','Dec'], stacked = True)\n",
    "plt.title('用户行为')"
   ]
  },
  {
   "cell_type": "code",
   "execution_count": null,
   "metadata": {},
   "outputs": [],
   "source": []
  }
 ],
 "metadata": {
  "kernelspec": {
   "display_name": "Python 3",
   "language": "python",
   "name": "python3"
  },
  "language_info": {
   "codemirror_mode": {
    "name": "ipython",
    "version": 3
   },
   "file_extension": ".py",
   "mimetype": "text/x-python",
   "name": "python",
   "nbconvert_exporter": "python",
   "pygments_lexer": "ipython3",
   "version": "3.7.1"
  },
  "toc-autonumbering": true
 },
 "nbformat": 4,
 "nbformat_minor": 2
}
