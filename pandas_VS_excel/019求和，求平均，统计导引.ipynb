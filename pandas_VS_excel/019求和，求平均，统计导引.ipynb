{
 "cells": [
  {
   "cell_type": "code",
   "execution_count": 1,
   "metadata": {},
   "outputs": [],
   "source": [
    "import pandas as pd"
   ]
  },
  {
   "cell_type": "code",
   "execution_count": 17,
   "metadata": {},
   "outputs": [
    {
     "name": "stdout",
     "output_type": "stream",
     "text": [
      "           Name  Test_1  Test_2  Test_3  Total    Average\n",
      "0   Student_001   62.00   86.00    83.0  231.0  77.000000\n",
      "1   Student_002   77.00   97.00    78.0  252.0  84.000000\n",
      "2   Student_003   57.00   96.00    46.0  199.0  66.333333\n",
      "3   Student_004   57.00   87.00    80.0  224.0  74.666667\n",
      "4   Student_005   95.00   59.00    87.0  241.0  80.333333\n",
      "5   Student_006   56.00   97.00    61.0  214.0  71.333333\n",
      "6   Student_007   64.00   91.00    67.0  222.0  74.000000\n",
      "7   Student_008   96.00   70.00    48.0  214.0  71.333333\n",
      "8   Student_009   77.00   73.00    48.0  198.0  66.000000\n",
      "9   Student_010   90.00   94.00    67.0  251.0  83.666667\n",
      "10  Student_011   62.00   55.00    63.0  180.0  60.000000\n",
      "11  Student_012   83.00   76.00    81.0  240.0  80.000000\n",
      "12  Student_013   68.00   60.00    90.0  218.0  72.666667\n",
      "13  Student_014   82.00   68.00    98.0  248.0  82.666667\n",
      "14  Student_015   61.00   67.00    91.0  219.0  73.000000\n",
      "15  Student_016   59.00   63.00    46.0  168.0  56.000000\n",
      "16  Student_017   62.00   83.00    93.0  238.0  79.333333\n",
      "17  Student_018   90.00   75.00    80.0  245.0  81.666667\n",
      "18  Student_019  100.00   95.00    55.0  250.0  83.333333\n",
      "19  Student_020   61.00   87.00   100.0  248.0  82.666667\n",
      "20      Summary   72.95   78.95    73.1  225.0  75.000000\n"
     ]
    }
   ],
   "source": [
    "students= pd.read_excel('Students19.xlsx', index_col= 'ID')\n",
    "#print(students)\n",
    "temp= students[['Test_1', 'Test_2', 'Test_3']]\n",
    "row_sum= temp.sum(axis= 1)#设置轴axis=1使横向相加计算和\n",
    "row_mean= temp.mean(axis= 1)#计算横向平均值\n",
    "students['Total']= row_sum\n",
    "students['Average']= row_mean\n",
    "#print(students)\n",
    "col_mean= students[['Test_1', 'Test_2', 'Test_3', 'Total', 'Average' ]].mean()\n",
    "col_mean['Name']= 'Summary'#命名\n",
    "students= students.append(col_mean, ignore_index=True)#ignore_index=True 设置添加位置\n",
    "print(students)"
   ]
  },
  {
   "cell_type": "code",
   "execution_count": null,
   "metadata": {},
   "outputs": [],
   "source": []
  }
 ],
 "metadata": {
  "kernelspec": {
   "display_name": "Python 3",
   "language": "python",
   "name": "python3"
  },
  "language_info": {
   "codemirror_mode": {
    "name": "ipython",
    "version": 3
   },
   "file_extension": ".py",
   "mimetype": "text/x-python",
   "name": "python",
   "nbconvert_exporter": "python",
   "pygments_lexer": "ipython3",
   "version": "3.7.1"
  }
 },
 "nbformat": 4,
 "nbformat_minor": 2
}
