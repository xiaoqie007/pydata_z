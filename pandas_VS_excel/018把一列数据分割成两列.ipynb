{
 "cells": [
  {
   "cell_type": "code",
   "execution_count": 1,
   "metadata": {},
   "outputs": [],
   "source": [
    "import pandas as pd"
   ]
  },
  {
   "cell_type": "code",
   "execution_count": 7,
   "metadata": {},
   "outputs": [
    {
     "name": "stdout",
     "output_type": "stream",
     "text": [
      "           Full Name First Name    Last Name\n",
      "ID                                          \n",
      "1         Syed Abbas       Syed        Abbas\n",
      "2     Catherine Abel  Catherine         Abel\n",
      "3    Kim Abercrombie        Kim  Abercrombie\n",
      "4    Kim Abercrombie        Kim  Abercrombie\n",
      "5    Kim Abercrombie        Kim  Abercrombie\n",
      "6     Hazem Abolrous      Hazem     Abolrous\n",
      "7       Sam Abolrous        Sam     Abolrous\n",
      "8   Humberto Acevedo   Humberto      Acevedo\n",
      "9     Gustavo Achong    Gustavo       Achong\n",
      "10    Pilar Ackerman      Pilar     Ackerman\n",
      "11    Pilar Ackerman      Pilar     Ackerman\n",
      "12       Aaron Adams      Aaron        Adams\n",
      "13        Adam Adams       Adam        Adams\n",
      "14        Alex Adams       Alex        Adams\n",
      "15   Alexandra Adams  Alexandra        Adams\n",
      "16     Allison Adams    Allison        Adams\n",
      "17      Amanda Adams     Amanda        Adams\n",
      "18       Amber Adams      Amber        Adams\n",
      "19      Andrea Adams     Andrea        Adams\n",
      "20       Angel Adams      Angel        Adams\n"
     ]
    }
   ],
   "source": [
    "employees = pd.read_excel('Employees.xlsx', index_col= 'ID')\n",
    "#df= employees['Full Name'].str.split()#还是一个列表\n",
    "df= employees['Full Name'].str.split(expand= True)#expand分为两列表\n",
    "employees['First Name']= df[0]\n",
    "employees['Last Name']= df[1]\n",
    "#print(employees)\n",
    "#print(df)\n",
    "print(employees)"
   ]
  },
  {
   "cell_type": "code",
   "execution_count": 8,
   "metadata": {},
   "outputs": [],
   "source": [
    "\n",
    "# 补充参考google \"pandas.Series.str.split\" \n",
    "# https://pandas.pydata.org/pandas-docs/version/0.22/api.html; String handing"
   ]
  },
  {
   "cell_type": "code",
   "execution_count": 51,
   "metadata": {},
   "outputs": [
    {
     "name": "stdout",
     "output_type": "stream",
     "text": [
      "           Full Name First Name    Last Name\n",
      "ID                                          \n",
      "1         Syed Abbas       syed        ABBAS\n",
      "2     Catherine Abel  catherine         ABEL\n",
      "3    Kim Abercrombie        kim  ABERCROMBIE\n",
      "4    Kim Abercrombie        kim  ABERCROMBIE\n",
      "5    Kim Abercrombie        kim  ABERCROMBIE\n",
      "6     Hazem Abolrous      hazem     ABOLROUS\n",
      "7       Sam Abolrous        sam     ABOLROUS\n",
      "8   Humberto Acevedo   humberto      ACEVEDO\n",
      "9     Gustavo Achong    gustavo       ACHONG\n",
      "10    Pilar Ackerman      pilar     ACKERMAN\n",
      "11    Pilar Ackerman      pilar     ACKERMAN\n",
      "12       Aaron Adams      aaron        ADAMS\n",
      "13        Adam Adams       adam        ADAMS\n",
      "14        Alex Adams       alex        ADAMS\n",
      "15   Alexandra Adams  alexandra        ADAMS\n",
      "16     Allison Adams    allison        ADAMS\n",
      "17      Amanda Adams     amanda        ADAMS\n",
      "18       Amber Adams      amber        ADAMS\n",
      "19      Andrea Adams     andrea        ADAMS\n",
      "20       Angel Adams      angel        ADAMS\n"
     ]
    }
   ],
   "source": [
    "#区别split（），rsplit（）\n",
    "#Series.str.split([pat, n, expand])\n",
    "#Split each string (a la re.split) in the Series/Index by given pattern, \n",
    "#propagating NA values.\n",
    "\n",
    "#Series.str.rsplit([pat, n, expand])\n",
    "#Split each string in the Series/Index by the given delimiter string,\n",
    "#starting at the end of the string and working to the front\n",
    "\n",
    "employees = pd.read_excel('Employees.xlsx', index_col= 'ID')\n",
    "df= employees['Full Name'].str.split(expand= True)\n",
    "\n",
    "employees['First Name']= df[0].str.lower()\n",
    "employees['Last Name']= df[1].str.upper()\n",
    "\n",
    "print(employees)\n",
    "#print(df)"
   ]
  },
  {
   "cell_type": "code",
   "execution_count": null,
   "metadata": {},
   "outputs": [],
   "source": []
  },
  {
   "cell_type": "code",
   "execution_count": null,
   "metadata": {},
   "outputs": [],
   "source": []
  }
 ],
 "metadata": {
  "kernelspec": {
   "display_name": "Python 3",
   "language": "python",
   "name": "python3"
  },
  "language_info": {
   "codemirror_mode": {
    "name": "ipython",
    "version": 3
   },
   "file_extension": ".py",
   "mimetype": "text/x-python",
   "name": "python",
   "nbconvert_exporter": "python",
   "pygments_lexer": "ipython3",
   "version": "3.7.1"
  }
 },
 "nbformat": 4,
 "nbformat_minor": 2
}
