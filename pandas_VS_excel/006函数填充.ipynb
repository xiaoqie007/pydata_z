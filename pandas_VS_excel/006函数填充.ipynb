{
 "cells": [
  {
   "cell_type": "code",
   "execution_count": 12,
   "metadata": {},
   "outputs": [
    {
     "name": "stdout",
     "output_type": "stream",
     "text": [
      "        Name  ListPrice  Discount  Price\n",
      "ID                                      \n",
      "1   Book_001         10       0.5    5.0\n",
      "2   Book_002         20       0.5   10.0\n",
      "3   Book_003         30       0.5   15.0\n",
      "4   Book_004         40       0.5   20.0\n",
      "5   Book_005         50       0.5   40.0\n",
      "6   Book_006         60       0.5   48.0\n",
      "7   Book_007         70       0.5   56.0\n",
      "8   Book_008         80       0.5   64.0\n",
      "9   Book_009         90       0.5   72.0\n",
      "10  Book_010        100       0.5   80.0\n",
      "11  Book_011        110       0.5   88.0\n",
      "12  Book_012        120       0.5   96.0\n",
      "13  Book_013        130       0.5  104.0\n",
      "14  Book_014        140       0.5  112.0\n",
      "15  Book_015        150       0.5  120.0\n",
      "16  Book_016        160       0.5  128.0\n",
      "17  Book_017        170       0.5  136.0\n",
      "18  Book_018        180       0.5  144.0\n",
      "19  Book_019        190       0.5  152.0\n",
      "20  Book_020        200       0.5  160.0\n"
     ]
    }
   ],
   "source": [
    "import pandas as pd\n",
    "books = pd.read_excel('Books006.xlsx', index_col = 'ID')\n",
    "\n",
    "def add_2(x):\n",
    "    return x + 2\n",
    "\n",
    "#books['Price'] = books['ListPrice'] * books['Discount']\n",
    "books['Price'] = books['ListPrice'] * 0.8\n",
    "#books['ListPrice'] = books['ListPrice']+2\n",
    "#books['ListPrice'] = books['ListPrice'].apply(add_2) # apply\n",
    "#books['ListPrice'] = books['ListPrice'].apply(lambda x: x+12) # apply+ lambda\n",
    "\n",
    "#for i in books.index:\n",
    "for i in range(1, 5):\n",
    "    books['Price'].at[i] = books['ListPrice'].at[i] * books['Discount'].at[i]\n",
    "\n",
    "print(books)"
   ]
  },
  {
   "cell_type": "code",
   "execution_count": null,
   "metadata": {},
   "outputs": [],
   "source": []
  }
 ],
 "metadata": {
  "kernelspec": {
   "display_name": "Python 3",
   "language": "python",
   "name": "python3"
  },
  "language_info": {
   "codemirror_mode": {
    "name": "ipython",
    "version": 3
   },
   "file_extension": ".py",
   "mimetype": "text/x-python",
   "name": "python",
   "nbconvert_exporter": "python",
   "pygments_lexer": "ipython3",
   "version": "3.7.1"
  }
 },
 "nbformat": 4,
 "nbformat_minor": 2
}
