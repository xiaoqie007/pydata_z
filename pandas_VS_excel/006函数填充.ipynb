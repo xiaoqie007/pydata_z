{
 "cells": [
  {
   "cell_type": "code",
   "execution_count": 19,
   "metadata": {},
   "outputs": [
    {
     "name": "stdout",
     "output_type": "stream",
     "text": [
      "        Name  ListPrice  Discount  Price\n",
      "ID                                      \n",
      "1   Book_001         22       0.5    NaN\n",
      "2   Book_002         32       0.5    NaN\n",
      "3   Book_003         42       0.5    NaN\n",
      "4   Book_004         52       0.5    NaN\n",
      "5   Book_005         62       0.5    NaN\n",
      "6   Book_006         72       0.5    NaN\n",
      "7   Book_007         82       0.5    NaN\n",
      "8   Book_008         92       0.5    NaN\n",
      "9   Book_009        102       0.5    NaN\n",
      "10  Book_010        112       0.5    NaN\n",
      "11  Book_011        122       0.5    NaN\n",
      "12  Book_012        132       0.5    NaN\n",
      "13  Book_013        142       0.5    NaN\n",
      "14  Book_014        152       0.5    NaN\n",
      "15  Book_015        162       0.5    NaN\n",
      "16  Book_016        172       0.5    NaN\n",
      "17  Book_017        182       0.5    NaN\n",
      "18  Book_018        192       0.5    NaN\n",
      "19  Book_019        202       0.5    NaN\n",
      "20  Book_020        212       0.5    NaN\n"
     ]
    }
   ],
   "source": [
    "import pandas as pd\n",
    "books = pd.read_excel('Books006.xlsx', index_col = 'ID')\n",
    "\n",
    "def add_2(x):\n",
    "    return x + 2\n",
    "\n",
    "#books['Price'] = books['ListPrice'] * books['Discount']\n",
    "#books['Price'] = books['ListPrice'] * 0.8\n",
    "#books['ListPrice'] = books['ListPrice']+2\n",
    "#books['ListPrice'] = books['ListPrice'].apply(add_2) # apply\n",
    "books['ListPrice'] = books['ListPrice'].apply(lambda x: x+12) # apply+ lambda\n",
    "\n",
    "#for i in books.index:\n",
    "#for i in range(5, 13):\n",
    "#    books['Price'].at[i] = books['ListPrice'].at[i] * books['Discount'].at[i]\n",
    "\n",
    "print(books)"
   ]
  },
  {
   "cell_type": "code",
   "execution_count": null,
   "metadata": {},
   "outputs": [],
   "source": []
  }
 ],
 "metadata": {
  "kernelspec": {
   "display_name": "Python 3",
   "language": "python",
   "name": "python3"
  },
  "language_info": {
   "codemirror_mode": {
    "name": "ipython",
    "version": 3
   },
   "file_extension": ".py",
   "mimetype": "text/x-python",
   "name": "python",
   "nbconvert_exporter": "python",
   "pygments_lexer": "ipython3",
   "version": "3.7.1"
  }
 },
 "nbformat": 4,
 "nbformat_minor": 2
}
