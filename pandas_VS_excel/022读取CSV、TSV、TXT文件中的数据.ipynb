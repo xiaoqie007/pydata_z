{
 "cells": [
  {
   "cell_type": "code",
   "execution_count": 1,
   "metadata": {},
   "outputs": [],
   "source": [
    "import pandas as pd"
   ]
  },
  {
   "cell_type": "code",
   "execution_count": 3,
   "metadata": {},
   "outputs": [
    {
     "name": "stdout",
     "output_type": "stream",
     "text": [
      "           Name  Age\n",
      "ID                  \n",
      "1   Student_001   21\n",
      "2   Student_002   22\n",
      "3   Student_003   23\n",
      "4   Student_004   24\n",
      "5   Student_005   25\n",
      "6   Student_006   26\n",
      "7   Student_007   27\n",
      "8   Student_008   28\n",
      "9   Student_009   29\n",
      "10  Student_010   30\n",
      "11  Student_011   31\n",
      "12  Student_012   32\n",
      "13  Student_013   33\n",
      "14  Student_014   34\n",
      "15  Student_015   35\n",
      "16  Student_016   36\n",
      "17  Student_017   37\n",
      "18  Student_018   38\n",
      "19  Student_019   39\n",
      "20  Student_020   40\n"
     ]
    }
   ],
   "source": [
    "#.csv文件\n",
    "student1 = pd.read_csv('Students22.csv', index_col='ID')\n",
    "print(student1)"
   ]
  },
  {
   "cell_type": "code",
   "execution_count": 5,
   "metadata": {},
   "outputs": [
    {
     "name": "stdout",
     "output_type": "stream",
     "text": [
      "           Name  Age\n",
      "ID                  \n",
      "1   Student_001   21\n",
      "2   Student_002   22\n",
      "3   Student_003   23\n",
      "4   Student_004   24\n",
      "5   Student_005   25\n",
      "6   Student_006   26\n",
      "7   Student_007   27\n",
      "8   Student_008   28\n",
      "9   Student_009   29\n",
      "10  Student_010   30\n",
      "11  Student_011   31\n",
      "12  Student_012   32\n",
      "13  Student_013   33\n",
      "14  Student_014   34\n",
      "15  Student_015   35\n",
      "16  Student_016   36\n",
      "17  Student_017   37\n",
      "18  Student_018   38\n",
      "19  Student_019   39\n",
      "20  Student_020   40\n"
     ]
    }
   ],
   "source": [
    "#.tsv文件分隔符sep设置成 ‘\\t’-制表符\n",
    "student2 = pd.read_csv('Students22.tsv',sep= '\\t', index_col='ID')\n",
    "print(student2)"
   ]
  },
  {
   "cell_type": "code",
   "execution_count": 9,
   "metadata": {},
   "outputs": [
    {
     "name": "stdout",
     "output_type": "stream",
     "text": [
      "           Name  Age\n",
      "ID                  \n",
      "1   Student_001   21\n",
      "2   Student_002   22\n",
      "3   Student_003   23\n",
      "4   Student_004   24\n",
      "5   Student_005   25\n",
      "6   Student_006   26\n",
      "7   Student_007   27\n",
      "8   Student_008   28\n",
      "9   Student_009   29\n",
      "10  Student_010   30\n",
      "11  Student_011   31\n",
      "12  Student_012   32\n",
      "13  Student_013   33\n",
      "14  Student_014   34\n",
      "15  Student_015   35\n",
      "16  Student_016   36\n",
      "17  Student_017   37\n",
      "18  Student_018   38\n",
      "19  Student_019   39\n",
      "20  Student_020   40\n"
     ]
    }
   ],
   "source": [
    "#读取.txt文件，分隔符设置成‘|’\n",
    "student3 = pd.read_csv('Students22.txt',sep= '|', index_col='ID')\n",
    "print(student3)"
   ]
  },
  {
   "cell_type": "code",
   "execution_count": null,
   "metadata": {},
   "outputs": [],
   "source": []
  }
 ],
 "metadata": {
  "kernelspec": {
   "display_name": "Python 3",
   "language": "python",
   "name": "python3"
  },
  "language_info": {
   "codemirror_mode": {
    "name": "ipython",
    "version": 3
   },
   "file_extension": ".py",
   "mimetype": "text/x-python",
   "name": "python",
   "nbconvert_exporter": "python",
   "pygments_lexer": "ipython3",
   "version": "3.7.1"
  }
 },
 "nbformat": 4,
 "nbformat_minor": 2
}
