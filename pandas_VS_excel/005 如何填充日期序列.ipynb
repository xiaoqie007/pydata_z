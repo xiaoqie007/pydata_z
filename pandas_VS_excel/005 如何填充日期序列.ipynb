{
 "cells": [
  {
   "cell_type": "code",
   "execution_count": 1,
   "metadata": {},
   "outputs": [],
   "source": [
    "import pandas as pd\n",
    "from datetime import date, timedelta"
   ]
  },
  {
   "cell_type": "code",
   "execution_count": 12,
   "metadata": {},
   "outputs": [
    {
     "name": "stdout",
     "output_type": "stream",
     "text": [
      "        Name InStore        Date\n",
      "ID                              \n",
      "1   Book_001     Yes  2019-01-01\n",
      "2   Book_002      No  2019-02-01\n",
      "3   Book_003     Yes  2019-03-01\n",
      "4   Book_004      No  2019-04-01\n",
      "5   Book_005     Yes  2019-05-01\n",
      "6   Book_006      No  2019-06-01\n",
      "7   Book_007     Yes  2019-07-01\n",
      "8   Book_008      No  2019-08-01\n",
      "9   Book_009     Yes  2019-09-01\n",
      "10  Book_010      No  2019-10-01\n",
      "11  Book_011     Yes  2019-11-01\n",
      "12  Book_012      No  2019-12-01\n",
      "13  Book_013     Yes  2020-01-01\n",
      "14  Book_014      No  2020-02-01\n",
      "15  Book_015     Yes  2020-03-01\n",
      "16  Book_016      No  2020-04-01\n",
      "17  Book_017     Yes  2020-05-01\n",
      "18  Book_018      No  2020-06-01\n",
      "19  Book_019     Yes  2020-07-01\n",
      "20  Book_020      No  2020-08-01\n"
     ]
    }
   ],
   "source": [
    "books = pd.read_excel('Books.xlsx', skiprows= 3, usecols= 'C:F',index_col= None,\n",
    "                     dtype= {'ID': str, 'InStore': str, 'Date': str})\n",
    "\n",
    "def add_month(d, md):\n",
    "    yd = md//12\n",
    "    m = d.month + md % 12\n",
    "    if m != 12:\n",
    "        yd += m // 12\n",
    "        m = m % 12\n",
    "    return date(d.year + yd, m, d.day)\n",
    "\n",
    "start = date(2019,1,1)\n",
    "for i in books.index:\n",
    "    books['ID'].at[i]= i+1\n",
    "    books['InStore'].at[i] = 'Yes' if i % 2 == 0 else 'No'\n",
    "    #books['Date'].at[i] = start + timedelta(days = i)#日\n",
    "    #books['Date'].at[i] = date(start.year+i, start.month, start.day)#年\n",
    "    #books['Date'].at[i] = add_month(start, i)#月 Series\n",
    "    books.at[i,'Date'] = add_month(start, i)#月 DataFrame\n",
    "    \n",
    "books.set_index('ID', inplace = True)    \n",
    "print(books)\n",
    "#books.to_csv('output.csv')"
   ]
  },
  {
   "cell_type": "code",
   "execution_count": null,
   "metadata": {},
   "outputs": [],
   "source": []
  }
 ],
 "metadata": {
  "kernelspec": {
   "display_name": "Python 3",
   "language": "python",
   "name": "python3"
  },
  "language_info": {
   "codemirror_mode": {
    "name": "ipython",
    "version": 3
   },
   "file_extension": ".py",
   "mimetype": "text/x-python",
   "name": "python",
   "nbconvert_exporter": "python",
   "pygments_lexer": "ipython3",
   "version": "3.7.1"
  }
 },
 "nbformat": 4,
 "nbformat_minor": 2
}
