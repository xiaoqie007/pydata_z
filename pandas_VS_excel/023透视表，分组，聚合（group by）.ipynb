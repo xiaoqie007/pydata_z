{
 "cells": [
  {
   "cell_type": "code",
   "execution_count": 1,
   "metadata": {},
   "outputs": [],
   "source": [
    "import pandas as pd"
   ]
  },
  {
   "cell_type": "code",
   "execution_count": 4,
   "metadata": {},
   "outputs": [
    {
     "name": "stdout",
     "output_type": "stream",
     "text": [
      "   ID     Total       Date                  Product      Subcategor Category\n",
      "0   1  2024.994 2011-05-31   Mountain-100 Black, 42  Mountain Bikes    Bikes\n",
      "1   2  6074.982 2011-05-31   Mountain-100 Black, 44  Mountain Bikes    Bikes\n",
      "2   3  2024.994 2011-05-31   Mountain-100 Black, 48  Mountain Bikes    Bikes\n",
      "3   4  2039.994 2011-05-31  Mountain-100 Silver, 38  Mountain Bikes    Bikes\n",
      "4   5  2039.994 2011-05-31  Mountain-100 Silver, 42  Mountain Bikes    Bikes\n",
      "datetime64[ns]\n"
     ]
    }
   ],
   "source": [
    "orders= pd.read_excel('Orders23.xlsx')\n",
    "#pd.options.display.max_columns= 999 在vsCode编程中会用的，用来显示所有行，此处用不到\n",
    "print(orders.head())\n",
    "print(orders.Date.dtype) ##显示datetime64[ns]说明Date是可以自动转换成日期类型的，它不是普通的‘string’"
   ]
  },
  {
   "cell_type": "code",
   "execution_count": 5,
   "metadata": {},
   "outputs": [
    {
     "name": "stdout",
     "output_type": "stream",
     "text": [
      "   ID     Total       Date                  Product      Subcategor Category  \\\n",
      "0   1  2024.994 2011-05-31   Mountain-100 Black, 42  Mountain Bikes    Bikes   \n",
      "1   2  6074.982 2011-05-31   Mountain-100 Black, 44  Mountain Bikes    Bikes   \n",
      "2   3  2024.994 2011-05-31   Mountain-100 Black, 48  Mountain Bikes    Bikes   \n",
      "3   4  2039.994 2011-05-31  Mountain-100 Silver, 38  Mountain Bikes    Bikes   \n",
      "4   5  2039.994 2011-05-31  Mountain-100 Silver, 42  Mountain Bikes    Bikes   \n",
      "\n",
      "   Year  \n",
      "0  2011  \n",
      "1  2011  \n",
      "2  2011  \n",
      "3  2011  \n",
      "4  2011  \n"
     ]
    }
   ],
   "source": [
    "orders['Year']= pd.DatetimeIndex(orders['Date']).year\n",
    "print(orders.head())"
   ]
  },
  {
   "cell_type": "code",
   "execution_count": 7,
   "metadata": {},
   "outputs": [
    {
     "name": "stdout",
     "output_type": "stream",
     "text": [
      "Year                 2011          2012          2013          2014\n",
      "Category                                                           \n",
      "Accessories  2.082077e+04  1.024398e+05  6.750247e+05  4.737876e+05\n",
      "Bikes        1.194565e+07  2.898552e+07  3.626683e+07  1.745318e+07\n",
      "Clothing     3.603148e+04  5.555877e+05  1.067690e+06  4.612336e+05\n",
      "Components   6.391730e+05  3.880758e+06  5.612935e+06  1.669727e+06\n"
     ]
    }
   ],
   "source": [
    "#方法1 直接调用 pivot_table\n",
    "import numpy as np\n",
    "pt1= orders.pivot_table(index= 'Category',columns= 'Year', values= 'Total', aggfunc= np.sum)\n",
    "print(pt1)"
   ]
  },
  {
   "cell_type": "code",
   "execution_count": 9,
   "metadata": {},
   "outputs": [
    {
     "name": "stdout",
     "output_type": "stream",
     "text": [
      "                           Sum  Count\n",
      "Category    Year                     \n",
      "Accessories 2011  2.082077e+04    360\n",
      "            2012  1.024398e+05   1339\n",
      "            2013  6.750247e+05  20684\n",
      "            2014  4.737876e+05  18811\n",
      "Bikes       2011  1.194565e+07   3826\n",
      "            2012  2.898552e+07  10776\n",
      "            2013  3.626683e+07  16485\n",
      "            2014  1.745318e+07   8944\n",
      "Clothing    2011  3.603148e+04    655\n",
      "            2012  5.555877e+05   4045\n",
      "            2013  1.067690e+06  10266\n",
      "            2014  4.612336e+05   6428\n",
      "Components  2011  6.391730e+05    875\n",
      "            2012  3.880758e+06   5529\n",
      "            2013  5.612935e+06   9138\n",
      "            2014  1.669727e+06   3156\n"
     ]
    }
   ],
   "source": [
    "#方法2\n",
    "groups= orders.groupby(['Category', 'Year'])\n",
    "s= groups['Total'].sum()\n",
    "c= groups['ID'].count()\n",
    "pt2= pd.DataFrame({'Sum':s, 'Count':c})\n",
    "print(pt2)"
   ]
  },
  {
   "cell_type": "code",
   "execution_count": null,
   "metadata": {},
   "outputs": [],
   "source": []
  }
 ],
 "metadata": {
  "kernelspec": {
   "display_name": "Python 3",
   "language": "python",
   "name": "python3"
  },
  "language_info": {
   "codemirror_mode": {
    "name": "ipython",
    "version": 3
   },
   "file_extension": ".py",
   "mimetype": "text/x-python",
   "name": "python",
   "nbconvert_exporter": "python",
   "pygments_lexer": "ipython3",
   "version": "3.7.1"
  }
 },
 "nbformat": 4,
 "nbformat_minor": 2
}
