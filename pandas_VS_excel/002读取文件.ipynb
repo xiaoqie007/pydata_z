{
 "cells": [
  {
   "cell_type": "code",
   "execution_count": 1,
   "metadata": {},
   "outputs": [
    {
     "name": "stdout",
     "output_type": "stream",
     "text": [
      "(19972, 6)\n",
      "   ID      Type Title FirstName MiddleName    LastName\n",
      "0   1  Employee   NaN       Ken          J     Sánchez\n",
      "1   2  Employee   NaN     Terri        Lee       Duffy\n",
      "2   3  Employee   NaN   Roberto        NaN  Tamburello\n",
      "3   4  Employee   NaN       Rob        NaN     Walters\n",
      "======================\n"
     ]
    },
    {
     "data": {
      "text/html": [
       "<div>\n",
       "<style scoped>\n",
       "    .dataframe tbody tr th:only-of-type {\n",
       "        vertical-align: middle;\n",
       "    }\n",
       "\n",
       "    .dataframe tbody tr th {\n",
       "        vertical-align: top;\n",
       "    }\n",
       "\n",
       "    .dataframe thead th {\n",
       "        text-align: right;\n",
       "    }\n",
       "</style>\n",
       "<table border=\"1\" class=\"dataframe\">\n",
       "  <thead>\n",
       "    <tr style=\"text-align: right;\">\n",
       "      <th></th>\n",
       "      <th>ID</th>\n",
       "      <th>Type</th>\n",
       "      <th>Title</th>\n",
       "      <th>FirstName</th>\n",
       "      <th>MiddleName</th>\n",
       "      <th>LastName</th>\n",
       "    </tr>\n",
       "  </thead>\n",
       "  <tbody>\n",
       "    <tr>\n",
       "      <th>19968</th>\n",
       "      <td>20774</td>\n",
       "      <td>Individual Customer</td>\n",
       "      <td>NaN</td>\n",
       "      <td>Isabella</td>\n",
       "      <td>F</td>\n",
       "      <td>Richardson</td>\n",
       "    </tr>\n",
       "    <tr>\n",
       "      <th>19969</th>\n",
       "      <td>20775</td>\n",
       "      <td>Individual Customer</td>\n",
       "      <td>NaN</td>\n",
       "      <td>Crystal</td>\n",
       "      <td>S</td>\n",
       "      <td>He</td>\n",
       "    </tr>\n",
       "    <tr>\n",
       "      <th>19970</th>\n",
       "      <td>20776</td>\n",
       "      <td>Individual Customer</td>\n",
       "      <td>NaN</td>\n",
       "      <td>Crystal</td>\n",
       "      <td>NaN</td>\n",
       "      <td>Zheng</td>\n",
       "    </tr>\n",
       "    <tr>\n",
       "      <th>19971</th>\n",
       "      <td>20777</td>\n",
       "      <td>Individual Customer</td>\n",
       "      <td>NaN</td>\n",
       "      <td>Crystal</td>\n",
       "      <td>NaN</td>\n",
       "      <td>Hu</td>\n",
       "    </tr>\n",
       "  </tbody>\n",
       "</table>\n",
       "</div>"
      ],
      "text/plain": [
       "          ID                 Type Title FirstName MiddleName    LastName\n",
       "19968  20774  Individual Customer   NaN  Isabella          F  Richardson\n",
       "19969  20775  Individual Customer   NaN   Crystal          S          He\n",
       "19970  20776  Individual Customer   NaN   Crystal        NaN       Zheng\n",
       "19971  20777  Individual Customer   NaN   Crystal        NaN          Hu"
      ]
     },
     "execution_count": 1,
     "metadata": {},
     "output_type": "execute_result"
    }
   ],
   "source": [
    "import pandas as pd\n",
    "people = pd.read_excel('People.xlsx', #header = 1, header = None)\n",
    "print(people.shape)\n",
    "#people.columns\n",
    "#people.columns = ['ID', 'Type', 'Title', 'FirstName', 'MiddleName', 'LastName']\n",
    "#people.to_excel('output.xlsx')\n",
    "people.set_index('ID', inplace = True)\n",
    "print(people.head(4))\n",
    "print(\"======================\")\n",
    "people.tail(4)\n",
    "                       \n",
    "people = pd.read_excel('People.xlsx', index_col = 'ID')"
   ]
  },
  {
   "cell_type": "code",
   "execution_count": null,
   "metadata": {},
   "outputs": [],
   "source": []
  }
 ],
 "metadata": {
  "kernelspec": {
   "display_name": "Python 3",
   "language": "python",
   "name": "python3"
  },
  "language_info": {
   "codemirror_mode": {
    "name": "ipython",
    "version": 3
   },
   "file_extension": ".py",
   "mimetype": "text/x-python",
   "name": "python",
   "nbconvert_exporter": "python",
   "pygments_lexer": "ipython3",
   "version": "3.7.1"
  }
 },
 "nbformat": 4,
 "nbformat_minor": 2
}
